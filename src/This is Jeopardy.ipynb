{
 "cells": [
  {
   "cell_type": "markdown",
   "metadata": {},
   "source": [
    "# This is Jeopardy!"
   ]
  },
  {
   "cell_type": "markdown",
   "metadata": {},
   "source": [
    "#### Project Goals"
   ]
  },
  {
   "cell_type": "markdown",
   "metadata": {},
   "source": [
    "We will work to write several functions that investigate a dataset of _Jeopardy!_ questions and answers. Filter the dataset for interesting topics, compute the average difficulty of those questions, and train to become the next Jeopardy champion!"
   ]
  },
  {
   "cell_type": "markdown",
   "metadata": {},
   "source": [
    "## Project Requirements"
   ]
  },
  {
   "cell_type": "markdown",
   "metadata": {},
   "source": [
    "\n",
    "   \n",
    "In order to display the full contents of a column, we've added this line of code:\n",
    "   \n",
    "   ```py\n",
    "   pd.set_option('display.max_colwidth', None)\n",
    "   ```"
   ]
  },
  {
   "cell_type": "code",
   "execution_count": 1,
   "metadata": {},
   "outputs": [
    {
     "name": "stdout",
     "output_type": "stream",
     "text": [
      "   show_number    air_date      round                         category value  \\\n",
      "0         4680  2004-12-31  Jeopardy!                          HISTORY  $200   \n",
      "1         4680  2004-12-31  Jeopardy!  ESPN's TOP 10 ALL-TIME ATHLETES  $200   \n",
      "2         4680  2004-12-31  Jeopardy!      EVERYBODY TALKS ABOUT IT...  $200   \n",
      "3         4680  2004-12-31  Jeopardy!                 THE COMPANY LINE  $200   \n",
      "4         4680  2004-12-31  Jeopardy!              EPITAPHS & TRIBUTES  $200   \n",
      "\n",
      "                                                                                                      question  \\\n",
      "0             For the last 8 years of his life, Galileo was under house arrest for espousing this man's theory   \n",
      "1  No. 2: 1912 Olympian; football star at Carlisle Indian School; 6 MLB seasons with the Reds, Giants & Braves   \n",
      "2                     The city of Yuma in this state has a record average of 4,055 hours of sunshine each year   \n",
      "3                         In 1963, live on \"The Art Linkletter Show\", this company served its billionth burger   \n",
      "4     Signer of the Dec. of Indep., framer of the Constitution of Mass., second President of the United States   \n",
      "\n",
      "       answer  \n",
      "0  Copernicus  \n",
      "1  Jim Thorpe  \n",
      "2     Arizona  \n",
      "3  McDonald's  \n",
      "4  John Adams  \n"
     ]
    }
   ],
   "source": [
    "import pandas as pd\n",
    "pd.set_option('display.max_colwidth', None)\n",
    "\n",
    "## loading the csv file\n",
    "\n",
    "jeopardy = pd.read_csv('jeopardy.csv')\n",
    "\n",
    "## renaming columns for easier usage\n",
    "\n",
    "jeopardy.rename(columns={\n",
    "    'Show Number': 'show_number',\n",
    "    ' Air Date': 'air_date',\n",
    "    ' Round': 'round',\n",
    "    ' Category': 'category',\n",
    "    ' Value': 'value',\n",
    "    ' Question': 'question',\n",
    "    ' Answer':'answer'\n",
    "}, inplace=True)\n",
    "\n",
    "## displaying the dataset model\n",
    "\n",
    "print(jeopardy.head())"
   ]
  },
  {
   "cell_type": "markdown",
   "metadata": {},
   "source": [
    "2. Write a function that filters the dataset for questions that contains all of the words in a list of words. For example, when the list `[\"King\", \"England\"]` was passed to our function, the function returned a DataFrame of 49 rows. Every row had the strings `\"King\"` and `\"England\"` somewhere in its `\" Question\"`.\n",
    "\n",
    "   Test your function by printing out the column containing the question of each row of the dataset."
   ]
  },
  {
   "cell_type": "code",
   "execution_count": 2,
   "metadata": {},
   "outputs": [
    {
     "name": "stdout",
     "output_type": "stream",
     "text": [
      "       show_number    air_date             round               category  \\\n",
      "4953          3003  1997-09-24  Double Jeopardy!           \"PH\"UN WORDS   \n",
      "6337          3517  1999-12-14  Double Jeopardy!                    Y1K   \n",
      "9191          3907  2001-09-04  Double Jeopardy!         WON THE BATTLE   \n",
      "11710         2903  1997-03-26  Double Jeopardy!       BRITISH MONARCHS   \n",
      "13454         4726  2005-03-07         Jeopardy!  A NUMBER FROM 1 TO 10   \n",
      "\n",
      "       value  \\\n",
      "4953    $200   \n",
      "6337    $800   \n",
      "9191    $800   \n",
      "11710   $600   \n",
      "13454  $1000   \n",
      "\n",
      "                                                                                                     question  \\\n",
      "4953                 Both England's King George V & FDR put their stamp of approval on this \"King of Hobbies\"   \n",
      "6337   In retaliation for Viking raids, this \"Unready\" king of England attacks Norse areas of the Isle of Man   \n",
      "9191                 This king of England beat the odds to trounce the French in the 1415 Battle of Agincourt   \n",
      "11710            This Scotsman, the first Stuart king of England, was called \"The Wisest Fool in Christendom\"   \n",
      "13454                                    It's the number that followed the last king of England named William   \n",
      "\n",
      "                             answer  \n",
      "4953   Philately (stamp collecting)  \n",
      "6337                       Ethelred  \n",
      "9191                        Henry V  \n",
      "11710                       James I  \n",
      "13454                             4  \n"
     ]
    }
   ],
   "source": [
    "## filter function\n",
    "\n",
    "def filter_questions(dataset, words):\n",
    "    return dataset.loc[dataset['question'].apply(lambda question: all(word.lower() in question.lower() for word in words))]\n",
    "\n",
    "## testing the filter function\n",
    "\n",
    "print(filter_questions(jeopardy, [\"King\", \"England\"]).head())"
   ]
  },
  {
   "cell_type": "code",
   "execution_count": 3,
   "metadata": {},
   "outputs": [
    {
     "name": "stdout",
     "output_type": "stream",
     "text": [
      "771.8833850722094\n"
     ]
    }
   ],
   "source": [
    "# adding a value column so that holds float values and not strings\n",
    "jeopardy['float_value'] = jeopardy.value.apply(lambda value: float(value[1:].replace(',', '')) if value != 'None' else 0)\n",
    "\n",
    "# filtering the dataset for the word \"King\"\n",
    "filtered_jeopardy = filter_questions(jeopardy, ['King'])\n",
    "\n",
    "# printing the average value for the filtered dataset\n",
    "print(filtered_jeopardy.float_value.mean())\n",
    "\n",
    "\n",
    "\n"
   ]
  },
  {
   "cell_type": "markdown",
   "metadata": {},
   "source": [
    "We will write a function that returns the count of unique answers to all of the questions in a dataset."
   ]
  },
  {
   "cell_type": "code",
   "execution_count": 4,
   "metadata": {},
   "outputs": [
    {
     "name": "stdout",
     "output_type": "stream",
     "text": [
      "                answer  number of answers\n",
      "0           Henry VIII                 55\n",
      "1              Solomon                 35\n",
      "2          Richard III                 33\n",
      "3            Louis XIV                 31\n",
      "4                David                 30\n",
      "...                ...                ...\n",
      "5263     L. Frank Baum                  1\n",
      "5264           L'chaim                  1\n",
      "5265        Königsberg                  1\n",
      "5266  Kung Pao Chicken                  1\n",
      "5267           zombies                  1\n",
      "\n",
      "[5268 rows x 2 columns]\n"
     ]
    }
   ],
   "source": [
    "def unique_answer(filtered_dataset):\n",
    "    # get a filtered version of jeopardy\n",
    "    return filtered_dataset.groupby('answer').show_number.count().reset_index().sort_values(by='show_number', ascending=False).reset_index(drop=True).rename(columns={'show_number': 'number of answers'})\n",
    "print(unique_answer(filtered_jeopardy))\n",
    "\n"
   ]
  }
 ],
 "metadata": {
  "interpreter": {
   "hash": "27f6fea6f47ae512550f0b8facdbd035a93e1dd89633f7bf2dd00a2502c71d0d"
  },
  "kernelspec": {
   "display_name": "Python 3.10.4 64-bit",
   "language": "python",
   "name": "python3"
  },
  "language_info": {
   "codemirror_mode": {
    "name": "ipython",
    "version": 3
   },
   "file_extension": ".py",
   "mimetype": "text/x-python",
   "name": "python",
   "nbconvert_exporter": "python",
   "pygments_lexer": "ipython3",
   "version": "3.10.4"
  }
 },
 "nbformat": 4,
 "nbformat_minor": 2
}
